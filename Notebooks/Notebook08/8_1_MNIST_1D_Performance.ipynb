{
  "cells": [
    {
      "cell_type": "markdown",
      "metadata": {
        "id": "L6chybAVFJW2"
      },
      "source": [
        "# **Notebook 8.1: MNIST_1D_Performance**\n",
        "\n",
        "This notebook runs a simple neural network on the MNIST1D dataset as in figure 8.2a. It uses code from https://github.com/greydanus/mnist1d to generate the data.\n",
        "\n",
        "Work through the cells below, running each cell in turn. In various places you will see the words \"TODO\". Follow the instructions at these places and make predictions about what is going to happen or write code to complete the functions.\n",
        "\n",
        "Contact me at udlbookmail@gmail.com if you find any mistakes or have any suggestions."
      ]
    },
    {
      "cell_type": "code",
      "execution_count": 18,
      "metadata": {
        "colab": {
          "base_uri": "https://localhost:8080/"
        },
        "id": "ifVjS4cTOqKz",
        "outputId": "242db9e0-aee3-4145-a79b-15e4c5ed0afc"
      },
      "outputs": [
        {
          "name": "stdout",
          "output_type": "stream",
          "text": [
            "Collecting git+https://github.com/greydanus/mnist1d\n",
            "  Cloning https://github.com/greydanus/mnist1d to c:\\users\\nesto\\appdata\\local\\temp\\pip-req-build-yhrc5xzd\n",
            "  Resolved https://github.com/greydanus/mnist1d to commit 7878d96082abd200c546a07a4101fa90b30fdf7e\n",
            "  Installing build dependencies: started\n",
            "  Installing build dependencies: finished with status 'done'\n",
            "  Getting requirements to build wheel: started\n",
            "  Getting requirements to build wheel: finished with status 'done'\n",
            "  Preparing metadata (pyproject.toml): started\n",
            "  Preparing metadata (pyproject.toml): finished with status 'done'\n",
            "Requirement already satisfied: requests in c:\\users\\nesto\\appdata\\local\\programs\\python\\python313\\lib\\site-packages (from mnist1d==0.0.2.post16) (2.32.3)\n",
            "Requirement already satisfied: numpy in c:\\users\\nesto\\appdata\\local\\programs\\python\\python313\\lib\\site-packages (from mnist1d==0.0.2.post16) (2.2.3)\n",
            "Requirement already satisfied: matplotlib in c:\\users\\nesto\\appdata\\local\\programs\\python\\python313\\lib\\site-packages (from mnist1d==0.0.2.post16) (3.10.1)\n",
            "Requirement already satisfied: scipy in c:\\users\\nesto\\appdata\\local\\programs\\python\\python313\\lib\\site-packages (from mnist1d==0.0.2.post16) (1.15.2)\n",
            "Requirement already satisfied: contourpy>=1.0.1 in c:\\users\\nesto\\appdata\\local\\programs\\python\\python313\\lib\\site-packages (from matplotlib->mnist1d==0.0.2.post16) (1.3.2)\n",
            "Requirement already satisfied: cycler>=0.10 in c:\\users\\nesto\\appdata\\local\\programs\\python\\python313\\lib\\site-packages (from matplotlib->mnist1d==0.0.2.post16) (0.12.1)\n",
            "Requirement already satisfied: fonttools>=4.22.0 in c:\\users\\nesto\\appdata\\local\\programs\\python\\python313\\lib\\site-packages (from matplotlib->mnist1d==0.0.2.post16) (4.57.0)\n",
            "Requirement already satisfied: kiwisolver>=1.3.1 in c:\\users\\nesto\\appdata\\local\\programs\\python\\python313\\lib\\site-packages (from matplotlib->mnist1d==0.0.2.post16) (1.4.8)\n",
            "Requirement already satisfied: packaging>=20.0 in c:\\users\\nesto\\appdata\\local\\programs\\python\\python313\\lib\\site-packages (from matplotlib->mnist1d==0.0.2.post16) (24.2)\n",
            "Requirement already satisfied: pillow>=8 in c:\\users\\nesto\\appdata\\local\\programs\\python\\python313\\lib\\site-packages (from matplotlib->mnist1d==0.0.2.post16) (11.2.1)\n",
            "Requirement already satisfied: pyparsing>=2.3.1 in c:\\users\\nesto\\appdata\\local\\programs\\python\\python313\\lib\\site-packages (from matplotlib->mnist1d==0.0.2.post16) (3.2.3)\n",
            "Requirement already satisfied: python-dateutil>=2.7 in c:\\users\\nesto\\appdata\\local\\programs\\python\\python313\\lib\\site-packages (from matplotlib->mnist1d==0.0.2.post16) (2.9.0.post0)\n",
            "Requirement already satisfied: six>=1.5 in c:\\users\\nesto\\appdata\\local\\programs\\python\\python313\\lib\\site-packages (from python-dateutil>=2.7->matplotlib->mnist1d==0.0.2.post16) (1.17.0)\n",
            "Requirement already satisfied: charset-normalizer<4,>=2 in c:\\users\\nesto\\appdata\\local\\programs\\python\\python313\\lib\\site-packages (from requests->mnist1d==0.0.2.post16) (3.4.1)\n",
            "Requirement already satisfied: idna<4,>=2.5 in c:\\users\\nesto\\appdata\\local\\programs\\python\\python313\\lib\\site-packages (from requests->mnist1d==0.0.2.post16) (3.10)\n",
            "Requirement already satisfied: urllib3<3,>=1.21.1 in c:\\users\\nesto\\appdata\\local\\programs\\python\\python313\\lib\\site-packages (from requests->mnist1d==0.0.2.post16) (2.4.0)\n",
            "Requirement already satisfied: certifi>=2017.4.17 in c:\\users\\nesto\\appdata\\local\\programs\\python\\python313\\lib\\site-packages (from requests->mnist1d==0.0.2.post16) (2025.1.31)\n",
            "Note: you may need to restart the kernel to use updated packages.\n"
          ]
        },
        {
          "name": "stderr",
          "output_type": "stream",
          "text": [
            "  Running command git clone --filter=blob:none --quiet https://github.com/greydanus/mnist1d 'C:\\Users\\nesto\\AppData\\Local\\Temp\\pip-req-build-yhrc5xzd'\n"
          ]
        }
      ],
      "source": [
        "# Run this if you're in a Colab to install MNIST 1D repository\n",
        "%pip install git+https://github.com/greydanus/mnist1d\n",
        "# %pip install torch"
      ]
    },
    {
      "cell_type": "code",
      "execution_count": 19,
      "metadata": {
        "id": "qyE7G1StPIqO"
      },
      "outputs": [],
      "source": [
        "import torch, torch.nn as nn\n",
        "from torch.utils.data import TensorDataset, DataLoader\n",
        "from torch.optim.lr_scheduler import StepLR\n",
        "import numpy as np\n",
        "import matplotlib.pyplot as plt\n",
        "import mnist1d"
      ]
    },
    {
      "cell_type": "markdown",
      "metadata": {
        "id": "F7LNq72SP6jO"
      },
      "source": [
        "Let's generate a training and test dataset using the MNIST1D code.  The dataset gets saved as a .pkl file so it doesn't have to be regenerated each time."
      ]
    },
    {
      "cell_type": "code",
      "execution_count": 20,
      "metadata": {
        "colab": {
          "base_uri": "https://localhost:8080/"
        },
        "id": "YLxf7dJfPaqw",
        "outputId": "1f4c90ef-40ca-4f0f-d4a3-77a2af023bc9"
      },
      "outputs": [
        {
          "name": "stdout",
          "output_type": "stream",
          "text": [
            "Successfully loaded data from ./mnist1d_data.pkl\n",
            "Examples in training set: 4000\n",
            "Examples in test set: 1000\n",
            "Length of each example: 40\n"
          ]
        }
      ],
      "source": [
        "args = mnist1d.data.get_dataset_args()\n",
        "data = mnist1d.data.get_dataset(args, path='./mnist1d_data.pkl', download=False, regenerate=False)\n",
        "\n",
        "# The training and test input and outputs are in\n",
        "# data['x'], data['y'], data['x_test'], and data['y_test']\n",
        "print(\"Examples in training set: {}\".format(len(data['y'])))\n",
        "print(\"Examples in test set: {}\".format(len(data['y_test'])))\n",
        "print(\"Length of each example: {}\".format(data['x'].shape[-1]))"
      ]
    },
    {
      "cell_type": "code",
      "execution_count": 21,
      "metadata": {
        "colab": {
          "base_uri": "https://localhost:8080/"
        },
        "id": "FxaB5vc0uevl",
        "outputId": "828b8631-cdfd-4610-bfaf-d43b28475e95"
      },
      "outputs": [
        {
          "data": {
            "text/plain": [
              "Sequential(\n",
              "  (0): Linear(in_features=40, out_features=400, bias=True)\n",
              "  (1): ReLU()\n",
              "  (2): Linear(in_features=400, out_features=400, bias=True)\n",
              "  (3): ReLU()\n",
              "  (4): Linear(in_features=400, out_features=20, bias=True)\n",
              ")"
            ]
          },
          "execution_count": 21,
          "metadata": {},
          "output_type": "execute_result"
        }
      ],
      "source": [
        "D_i = 40    # Input dimensions\n",
        "D_k = 100   # Hidden dimensions\n",
        "D_o = 10    # Output dimensions\n",
        "\n",
        "# Modeified inputs\n",
        "D_i = 40    # Input dimensions\n",
        "D_k = 400   # Hidden dimensions\n",
        "D_o = 20    # Output dimensions\n",
        "\n",
        "\n",
        "\n",
        "# TODO:\n",
        "# Define a model with two hidden layers of size 100\n",
        "# And ReLU activations between them\n",
        "# Replace this line (see Figure 7.8 of book for help):\n",
        "# model = torch.nn.Sequential(torch.nn.Linear(D_i, D_o));\n",
        "\n",
        "#Replaced with:\n",
        "model = torch.nn.Sequential(\n",
        "   torch.nn.Linear(D_i, D_k),\n",
        "   torch.nn.ReLU(),\n",
        "   torch.nn.Linear(D_k, D_k),\n",
        "   torch.nn.ReLU(),\n",
        "   torch.nn.Linear(D_k, D_o))\n",
        "\n",
        "\n",
        "def weights_init(layer_in):\n",
        "  # TODO:\n",
        "  # Initialize the parameters with He initialization\n",
        "  # Replace this line (see figure 7.8 of book for help)\n",
        "  # print(\"Initializing layer\")\n",
        "  # Replaced with:\n",
        "  if isinstance(layer_in, nn.Linear):\n",
        "    nn.init.kaiming_normal_(layer_in.weight)\n",
        "    layer_in.bias.data.fill_(0.0)\n",
        "\n",
        "# Call the function you just defined\n",
        "model.apply(weights_init)\n"
      ]
    },
    {
      "cell_type": "code",
      "execution_count": 22,
      "metadata": {
        "colab": {
          "base_uri": "https://localhost:8080/"
        },
        "id": "_rX6N3VyyQTY",
        "outputId": "ba0484e2-450d-47d8-d6cf-3167f6988777"
      },
      "outputs": [
        {
          "name": "stdout",
          "output_type": "stream",
          "text": [
            "Epoch     0, train loss 1.417000, train error 52.38,  test loss 1.593726, test error 61.60\n",
            "Epoch     1, train loss 1.052165, train error 36.90,  test loss 1.364981, test error 51.70\n",
            "Epoch     2, train loss 0.812865, train error 28.38,  test loss 1.222135, test error 45.50\n",
            "Epoch     3, train loss 0.643141, train error 20.00,  test loss 1.134049, test error 43.10\n",
            "Epoch     4, train loss 0.491596, train error 14.53,  test loss 1.126699, test error 41.90\n",
            "Epoch     5, train loss 0.388750, train error 11.88,  test loss 1.136591, test error 41.70\n",
            "Epoch     6, train loss 0.252997, train error 4.88,  test loss 1.070426, test error 38.50\n",
            "Epoch     7, train loss 0.191949, train error 4.10,  test loss 1.069937, test error 36.90\n",
            "Epoch     8, train loss 0.130460, train error 2.03,  test loss 1.125326, test error 36.40\n",
            "Epoch     9, train loss 0.083660, train error 0.50,  test loss 1.087582, test error 35.60\n",
            "Epoch    10, train loss 0.055065, train error 0.07,  test loss 1.072250, test error 34.40\n",
            "Epoch    11, train loss 0.042562, train error 0.00,  test loss 1.066484, test error 35.00\n",
            "Epoch    12, train loss 0.037245, train error 0.00,  test loss 1.087494, test error 35.70\n",
            "Epoch    13, train loss 0.032006, train error 0.00,  test loss 1.107918, test error 36.00\n",
            "Epoch    14, train loss 0.028667, train error 0.00,  test loss 1.111890, test error 35.90\n",
            "Epoch    15, train loss 0.025972, train error 0.00,  test loss 1.119819, test error 34.90\n",
            "Epoch    16, train loss 0.023533, train error 0.00,  test loss 1.137665, test error 35.90\n",
            "Epoch    17, train loss 0.021738, train error 0.00,  test loss 1.143753, test error 35.30\n",
            "Epoch    18, train loss 0.020089, train error 0.00,  test loss 1.146592, test error 35.10\n",
            "Epoch    19, train loss 0.018572, train error 0.00,  test loss 1.162205, test error 35.30\n",
            "Epoch    20, train loss 0.017738, train error 0.00,  test loss 1.163155, test error 35.20\n",
            "Epoch    21, train loss 0.017131, train error 0.00,  test loss 1.168160, test error 35.50\n",
            "Epoch    22, train loss 0.016579, train error 0.00,  test loss 1.170179, test error 35.10\n",
            "Epoch    23, train loss 0.016108, train error 0.00,  test loss 1.176970, test error 35.20\n",
            "Epoch    24, train loss 0.015578, train error 0.00,  test loss 1.177738, test error 34.80\n",
            "Epoch    25, train loss 0.015193, train error 0.00,  test loss 1.184161, test error 35.60\n",
            "Epoch    26, train loss 0.014743, train error 0.00,  test loss 1.188118, test error 35.60\n",
            "Epoch    27, train loss 0.014300, train error 0.00,  test loss 1.190122, test error 34.70\n",
            "Epoch    28, train loss 0.013900, train error 0.00,  test loss 1.195003, test error 34.90\n",
            "Epoch    29, train loss 0.013582, train error 0.00,  test loss 1.194567, test error 35.10\n",
            "Epoch    30, train loss 0.013329, train error 0.00,  test loss 1.198260, test error 35.10\n",
            "Epoch    31, train loss 0.013157, train error 0.00,  test loss 1.200838, test error 34.90\n",
            "Epoch    32, train loss 0.012989, train error 0.00,  test loss 1.201034, test error 35.10\n",
            "Epoch    33, train loss 0.012823, train error 0.00,  test loss 1.204357, test error 34.80\n",
            "Epoch    34, train loss 0.012668, train error 0.00,  test loss 1.205784, test error 35.00\n",
            "Epoch    35, train loss 0.012509, train error 0.00,  test loss 1.207832, test error 34.80\n",
            "Epoch    36, train loss 0.012354, train error 0.00,  test loss 1.209262, test error 34.90\n",
            "Epoch    37, train loss 0.012208, train error 0.00,  test loss 1.211359, test error 35.00\n",
            "Epoch    38, train loss 0.012060, train error 0.00,  test loss 1.211876, test error 34.60\n",
            "Epoch    39, train loss 0.011917, train error 0.00,  test loss 1.213206, test error 34.90\n",
            "Epoch    40, train loss 0.011843, train error 0.00,  test loss 1.213626, test error 34.80\n",
            "Epoch    41, train loss 0.011775, train error 0.00,  test loss 1.214619, test error 34.60\n",
            "Epoch    42, train loss 0.011705, train error 0.00,  test loss 1.215790, test error 34.90\n",
            "Epoch    43, train loss 0.011637, train error 0.00,  test loss 1.216169, test error 34.60\n",
            "Epoch    44, train loss 0.011570, train error 0.00,  test loss 1.216952, test error 34.70\n",
            "Epoch    45, train loss 0.011505, train error 0.00,  test loss 1.217907, test error 34.80\n",
            "Epoch    46, train loss 0.011440, train error 0.00,  test loss 1.218561, test error 34.70\n",
            "Epoch    47, train loss 0.011375, train error 0.00,  test loss 1.219280, test error 34.70\n",
            "Epoch    48, train loss 0.011311, train error 0.00,  test loss 1.220298, test error 34.80\n",
            "Epoch    49, train loss 0.011248, train error 0.00,  test loss 1.220469, test error 34.70\n"
          ]
        }
      ],
      "source": [
        "# choose cross entropy loss function (equation 5.24)\n",
        "loss_function = torch.nn.CrossEntropyLoss()\n",
        "# construct SGD optimizer and initialize learning rate and momentum\n",
        "optimizer = torch.optim.SGD(model.parameters(), lr = 0.05, momentum=0.9)\n",
        "# object that decreases learning rate by half every 10 epochs\n",
        "scheduler = StepLR(optimizer, step_size=10, gamma=0.5)\n",
        "x_train = torch.tensor(data['x'].astype('float32'))\n",
        "y_train = torch.tensor(data['y'].transpose().astype('int64'))\n",
        "x_test= torch.tensor(data['x_test'].astype('float32'))\n",
        "y_test = torch.tensor(data['y_test'].astype('int64'))\n",
        "\n",
        "# load the data into a class that creates the batches\n",
        "data_loader = DataLoader(TensorDataset(x_train,y_train), batch_size=100, shuffle=True, worker_init_fn=np.random.seed(1))\n",
        "\n",
        "# Initialize model weights\n",
        "model.apply(weights_init)\n",
        "\n",
        "# loop over the dataset n_epoch times\n",
        "n_epoch = 50\n",
        "# store the loss and the % correct at each epoch\n",
        "losses_train = np.zeros((n_epoch))\n",
        "errors_train = np.zeros((n_epoch))\n",
        "losses_test = np.zeros((n_epoch))\n",
        "errors_test = np.zeros((n_epoch))\n",
        "\n",
        "for epoch in range(n_epoch):\n",
        "  # loop over batches\n",
        "  for i, batch in enumerate(data_loader):\n",
        "    # retrieve inputs and labels for this batch\n",
        "    x_batch, y_batch = batch\n",
        "    # zero the parameter gradients\n",
        "    optimizer.zero_grad()\n",
        "    # forward pass -- calculate model output\n",
        "    pred = model(x_batch)\n",
        "    # compute the loss\n",
        "    loss = loss_function(pred, y_batch)\n",
        "    # backward pass\n",
        "    loss.backward()\n",
        "    # SGD update\n",
        "    optimizer.step()\n",
        "\n",
        "  # Run whole dataset to get statistics -- normally wouldn't do this\n",
        "  pred_train = model(x_train)\n",
        "  pred_test = model(x_test)\n",
        "  _, predicted_train_class = torch.max(pred_train.data, 1)\n",
        "  _, predicted_test_class = torch.max(pred_test.data, 1)\n",
        "  errors_train[epoch] = 100 - 100 * (predicted_train_class == y_train).float().sum() / len(y_train)\n",
        "  errors_test[epoch]= 100 - 100 * (predicted_test_class == y_test).float().sum() / len(y_test)\n",
        "  losses_train[epoch] = loss_function(pred_train, y_train).item()\n",
        "  losses_test[epoch]= loss_function(pred_test, y_test).item()\n",
        "  print(f'Epoch {epoch:5d}, train loss {losses_train[epoch]:.6f}, train error {errors_train[epoch]:3.2f},  test loss {losses_test[epoch]:.6f}, test error {errors_test[epoch]:3.2f}')\n",
        "\n",
        "  # tell scheduler to consider updating learning rate\n",
        "  scheduler.step()"
      ]
    },
    {
      "cell_type": "code",
      "execution_count": 23,
      "metadata": {
        "colab": {
          "base_uri": "https://localhost:8080/",
          "height": 927
        },
        "id": "yI-l6kA_EH9G",
        "outputId": "72e12c15-488e-4a9b-ec38-1f39815588e9"
      },
      "outputs": [
        {
          "data": {
            "image/png": "[encoded data removed]",
            "text/plain": [
              "<Figure size 640x480 with 1 Axes>"
            ]
          },
          "metadata": {},
          "output_type": "display_data"
        },
        {
          "data": {
            "image/png": "[encoded data removed]",
            "text/plain": [
              "<Figure size 640x480 with 1 Axes>"
            ]
          },
          "metadata": {},
          "output_type": "display_data"
        }
      ],
      "source": [
        "# Plot the results\n",
        "fig, ax = plt.subplots()\n",
        "ax.plot(errors_train,'r-',label='train')\n",
        "ax.plot(errors_test,'b-',label='test')\n",
        "ax.set_ylim(0,100); ax.set_xlim(0,n_epoch)\n",
        "ax.set_xlabel('Epoch'); ax.set_ylabel('Error')\n",
        "ax.set_title('TrainError %3.2f, Test Error %3.2f'%(errors_train[-1],errors_test[-1]))\n",
        "ax.legend()\n",
        "plt.show()\n",
        "\n",
        "# Plot the results\n",
        "fig, ax = plt.subplots()\n",
        "ax.plot(losses_train,'r-',label='train')\n",
        "ax.plot(losses_test,'b-',label='test')\n",
        "ax.set_xlim(0,n_epoch)\n",
        "ax.set_xlabel('Epoch'); ax.set_ylabel('Loss')\n",
        "ax.set_title('Train loss %3.2f, Test loss %3.2f'%(losses_train[-1],losses_test[-1]))\n",
        "ax.legend()\n",
        "plt.show()"
      ]
    },
    {
      "cell_type": "markdown",
      "metadata": {
        "id": "q-yT6re6GZS4"
      },
      "source": [
        "**TODO**\n",
        "\n",
        "Play with the model -- try changing the number of layers, hidden units, learning rate, batch size, momentum or anything else you like.  See if you can improve the test results.\n",
        "\n",
        "Is it a good idea to optimize the hyperparameters in this way?  Will the final result be a good estimate of the true test performance?"
      ]
    },
    {
      "cell_type": "markdown",
      "metadata": {
        "id": "D7wuKPWKI1nG"
      },
      "source": [
        "Response: It's not be a good estimate to update hyperparameters entirely as it could overfit the model that is being tested on. It would be ideal to finely tune the parameters.\n"
      ]
    }
  ],
  "metadata": {
    "accelerator": "GPU",
    "colab": {
      "gpuType": "T4",
      "provenance": []
    },
    "kernelspec": {
      "display_name": "Python 3",
      "name": "python3"
    },
    "language_info": {
      "codemirror_mode": {
        "name": "ipython",
        "version": 3
      },
      "file_extension": ".py",
      "mimetype": "text/x-python",
      "name": "python",
      "nbconvert_exporter": "python",
      "pygments_lexer": "ipython3",
      "version": "3.13.7"
    }
  },
  "nbformat": 4,
  "nbformat_minor": 0
}
