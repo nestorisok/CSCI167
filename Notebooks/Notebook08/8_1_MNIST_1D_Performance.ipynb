{
  "cells": [
    {
      "cell_type": "markdown",
      "metadata": {
        "id": "L6chybAVFJW2"
      },
      "source": [
        "# **Notebook 8.1: MNIST_1D_Performance**\n",
        "\n",
        "This notebook runs a simple neural network on the MNIST1D dataset as in figure 8.2a. It uses code from https://github.com/greydanus/mnist1d to generate the data.\n",
        "\n",
        "Work through the cells below, running each cell in turn. In various places you will see the words \"TODO\". Follow the instructions at these places and make predictions about what is going to happen or write code to complete the functions.\n",
        "\n",
        "Contact me at udlbookmail@gmail.com if you find any mistakes or have any suggestions."
      ]
    },
    {
      "cell_type": "code",
      "execution_count": null,
      "metadata": {
        "colab": {
          "base_uri": "https://localhost:8080/"
        },
        "id": "ifVjS4cTOqKz",
        "outputId": "242db9e0-aee3-4145-a79b-15e4c5ed0afc"
      },
      "outputs": [],
      "source": [
        "# Run this if you're in a Colab to install MNIST 1D repository\n",
        "%pip install git+https://github.com/greydanus/mnist1d\n",
        "# %pip install torch"
      ]
    },
    {
      "cell_type": "code",
      "execution_count": null,
      "metadata": {
        "id": "qyE7G1StPIqO"
      },
      "outputs": [],
      "source": [
        "import torch, torch.nn as nn\n",
        "from torch.utils.data import TensorDataset, DataLoader\n",
        "from torch.optim.lr_scheduler import StepLR\n",
        "import numpy as np\n",
        "import matplotlib.pyplot as plt\n",
        "import mnist1d"
      ]
    },
    {
      "cell_type": "markdown",
      "metadata": {
        "id": "F7LNq72SP6jO"
      },
      "source": [
        "Let's generate a training and test dataset using the MNIST1D code.  The dataset gets saved as a .pkl file so it doesn't have to be regenerated each time."
      ]
    },
    {
      "cell_type": "code",
      "execution_count": null,
      "metadata": {
        "colab": {
          "base_uri": "https://localhost:8080/"
        },
        "id": "YLxf7dJfPaqw",
        "outputId": "1f4c90ef-40ca-4f0f-d4a3-77a2af023bc9"
      },
      "outputs": [
        {
          "name": "stdout",
          "output_type": "stream",
          "text": [
            "Did or could not load data from ./mnist1d_data.pkl. Rebuilding dataset...\n",
            "Examples in training set: 4000\n",
            "Examples in test set: 1000\n",
            "Length of each example: 40\n"
          ]
        }
      ],
      "source": [
        "args = mnist1d.data.get_dataset_args()\n",
        "data = mnist1d.data.get_dataset(args, path='./mnist1d_data.pkl', download=False, regenerate=False)\n",
        "\n",
        "# The training and test input and outputs are in\n",
        "# data['x'], data['y'], data['x_test'], and data['y_test']\n",
        "print(\"Examples in training set: {}\".format(len(data['y'])))\n",
        "print(\"Examples in test set: {}\".format(len(data['y_test'])))\n",
        "print(\"Length of each example: {}\".format(data['x'].shape[-1]))"
      ]
    },
    {
      "cell_type": "code",
      "execution_count": null,
      "metadata": {
        "colab": {
          "base_uri": "https://localhost:8080/"
        },
        "id": "FxaB5vc0uevl",
        "outputId": "828b8631-cdfd-4610-bfaf-d43b28475e95"
      },
      "outputs": [
        {
          "data": {
            "text/plain": [
              "Sequential(\n",
              "  (0): Linear(in_features=40, out_features=400, bias=True)\n",
              "  (1): ReLU()\n",
              "  (2): Linear(in_features=400, out_features=400, bias=True)\n",
              "  (3): ReLU()\n",
              "  (4): Linear(in_features=400, out_features=20, bias=True)\n",
              ")"
            ]
          },
          "execution_count": 15,
          "metadata": {},
          "output_type": "execute_result"
        }
      ],
      "source": [
        "D_i = 40    # Input dimensions\n",
        "D_k = 100   # Hidden dimensions\n",
        "D_o = 10    # Output dimensions\n",
        "\n",
        "# Modeified inputs\n",
        "D_i = 40    # Input dimensions\n",
        "D_k = 400   # Hidden dimensions\n",
        "D_o = 20    # Output dimensions\n",
        "\n",
        "\n",
        "\n",
        "# TODO:\n",
        "# Define a model with two hidden layers of size 100\n",
        "# And ReLU activations between them\n",
        "# Replace this line (see Figure 7.8 of book for help):\n",
        "# model = torch.nn.Sequential(torch.nn.Linear(D_i, D_o));\n",
        "\n",
        "#Replaced with:\n",
        "model = torch.nn.Sequential(\n",
        "   torch.nn.Linear(D_i, D_k),\n",
        "   torch.nn.ReLU(),\n",
        "   torch.nn.Linear(D_k, D_k),\n",
        "   torch.nn.ReLU(),\n",
        "   torch.nn.Linear(D_k, D_o))\n",
        "\n",
        "\n",
        "def weights_init(layer_in):\n",
        "  # TODO:\n",
        "  # Initialize the parameters with He initialization\n",
        "  # Replace this line (see figure 7.8 of book for help)\n",
        "  # print(\"Initializing layer\")\n",
        "  # Replaced with:\n",
        "  if isinstance(layer_in, nn.Linear):\n",
        "    nn.init.kaiming_normal_(layer_in.weight)\n",
        "    layer_in.bias.data.fill_(0.0)\n",
        "\n",
        "# Call the function you just defined\n",
        "model.apply(weights_init)\n"
      ]
    },
    {
      "cell_type": "code",
      "execution_count": null,
      "metadata": {
        "colab": {
          "base_uri": "https://localhost:8080/"
        },
        "id": "_rX6N3VyyQTY",
        "outputId": "ba0484e2-450d-47d8-d6cf-3167f6988777"
      },
      "outputs": [
        {
          "name": "stdout",
          "output_type": "stream",
          "text": [
            "Epoch     0, train loss 1.388905, train error 51.55,  test loss 1.569230, test error 61.00\n",
            "Epoch     1, train loss 1.093436, train error 39.30,  test loss 1.406259, test error 56.80\n",
            "Epoch     2, train loss 0.848534, train error 29.00,  test loss 1.255032, test error 49.10\n",
            "Epoch     3, train loss 0.636763, train error 19.82,  test loss 1.144329, test error 43.60\n",
            "Epoch     4, train loss 0.502528, train error 15.53,  test loss 1.150090, test error 42.50\n",
            "Epoch     5, train loss 0.367954, train error 10.57,  test loss 1.147504, test error 41.70\n",
            "Epoch     6, train loss 0.292580, train error 8.22,  test loss 1.114141, test error 38.40\n",
            "Epoch     7, train loss 0.227493, train error 5.53,  test loss 1.186891, test error 39.20\n",
            "Epoch     8, train loss 0.160516, train error 2.78,  test loss 1.138626, test error 36.20\n",
            "Epoch     9, train loss 0.098848, train error 1.10,  test loss 1.099211, test error 34.50\n",
            "Epoch    10, train loss 0.056414, train error 0.03,  test loss 1.056852, test error 33.00\n",
            "Epoch    11, train loss 0.044550, train error 0.00,  test loss 1.096848, test error 33.40\n",
            "Epoch    12, train loss 0.038229, train error 0.00,  test loss 1.089628, test error 33.70\n",
            "Epoch    13, train loss 0.033914, train error 0.00,  test loss 1.115337, test error 34.00\n",
            "Epoch    14, train loss 0.029853, train error 0.00,  test loss 1.128356, test error 33.60\n",
            "Epoch    15, train loss 0.026440, train error 0.00,  test loss 1.151114, test error 33.80\n",
            "Epoch    16, train loss 0.024365, train error 0.00,  test loss 1.154361, test error 33.70\n",
            "Epoch    17, train loss 0.021807, train error 0.00,  test loss 1.155293, test error 34.00\n",
            "Epoch    18, train loss 0.020133, train error 0.00,  test loss 1.171765, test error 33.60\n",
            "Epoch    19, train loss 0.018593, train error 0.00,  test loss 1.180842, test error 33.00\n",
            "Epoch    20, train loss 0.017653, train error 0.00,  test loss 1.182271, test error 34.30\n",
            "Epoch    21, train loss 0.017121, train error 0.00,  test loss 1.185060, test error 33.90\n",
            "Epoch    22, train loss 0.016509, train error 0.00,  test loss 1.189075, test error 34.20\n",
            "Epoch    23, train loss 0.016023, train error 0.00,  test loss 1.190924, test error 33.80\n",
            "Epoch    24, train loss 0.015490, train error 0.00,  test loss 1.195964, test error 34.10\n",
            "Epoch    25, train loss 0.015123, train error 0.00,  test loss 1.201569, test error 33.90\n",
            "Epoch    26, train loss 0.014593, train error 0.00,  test loss 1.204836, test error 33.70\n",
            "Epoch    27, train loss 0.014174, train error 0.00,  test loss 1.206271, test error 34.30\n",
            "Epoch    28, train loss 0.013792, train error 0.00,  test loss 1.211054, test error 34.00\n",
            "Epoch    29, train loss 0.013411, train error 0.00,  test loss 1.212518, test error 33.80\n",
            "Epoch    30, train loss 0.013208, train error 0.00,  test loss 1.215136, test error 33.80\n",
            "Epoch    31, train loss 0.013036, train error 0.00,  test loss 1.216772, test error 34.10\n",
            "Epoch    32, train loss 0.012862, train error 0.00,  test loss 1.218791, test error 33.80\n",
            "Epoch    33, train loss 0.012699, train error 0.00,  test loss 1.219687, test error 33.90\n",
            "Epoch    34, train loss 0.012540, train error 0.00,  test loss 1.221089, test error 33.70\n",
            "Epoch    35, train loss 0.012389, train error 0.00,  test loss 1.223845, test error 33.80\n",
            "Epoch    36, train loss 0.012228, train error 0.00,  test loss 1.224339, test error 34.10\n",
            "Epoch    37, train loss 0.012075, train error 0.00,  test loss 1.225853, test error 33.90\n",
            "Epoch    38, train loss 0.011928, train error 0.00,  test loss 1.227884, test error 34.10\n",
            "Epoch    39, train loss 0.011787, train error 0.00,  test loss 1.227398, test error 33.90\n",
            "Epoch    40, train loss 0.011711, train error 0.00,  test loss 1.228983, test error 33.90\n",
            "Epoch    41, train loss 0.011641, train error 0.00,  test loss 1.230117, test error 34.00\n",
            "Epoch    42, train loss 0.011571, train error 0.00,  test loss 1.230934, test error 34.10\n",
            "Epoch    43, train loss 0.011505, train error 0.00,  test loss 1.231728, test error 33.90\n",
            "Epoch    44, train loss 0.011440, train error 0.00,  test loss 1.232300, test error 34.00\n",
            "Epoch    45, train loss 0.011371, train error 0.00,  test loss 1.233086, test error 33.90\n",
            "Epoch    46, train loss 0.011307, train error 0.00,  test loss 1.233423, test error 34.00\n",
            "Epoch    47, train loss 0.011240, train error 0.00,  test loss 1.234662, test error 34.00\n",
            "Epoch    48, train loss 0.011177, train error 0.00,  test loss 1.235468, test error 33.90\n",
            "Epoch    49, train loss 0.011114, train error 0.00,  test loss 1.235977, test error 33.90\n"
          ]
        }
      ],
      "source": [
        "# choose cross entropy loss function (equation 5.24)\n",
        "loss_function = torch.nn.CrossEntropyLoss()\n",
        "# construct SGD optimizer and initialize learning rate and momentum\n",
        "optimizer = torch.optim.SGD(model.parameters(), lr = 0.05, momentum=0.9)\n",
        "# object that decreases learning rate by half every 10 epochs\n",
        "scheduler = StepLR(optimizer, step_size=10, gamma=0.5)\n",
        "x_train = torch.tensor(data['x'].astype('float32'))\n",
        "y_train = torch.tensor(data['y'].transpose().astype('int64'))\n",
        "x_test= torch.tensor(data['x_test'].astype('float32'))\n",
        "y_test = torch.tensor(data['y_test'].astype('int64'))\n",
        "\n",
        "# load the data into a class that creates the batches\n",
        "data_loader = DataLoader(TensorDataset(x_train,y_train), batch_size=100, shuffle=True, worker_init_fn=np.random.seed(1))\n",
        "\n",
        "# Initialize model weights\n",
        "model.apply(weights_init)\n",
        "\n",
        "# loop over the dataset n_epoch times\n",
        "n_epoch = 50\n",
        "# store the loss and the % correct at each epoch\n",
        "losses_train = np.zeros((n_epoch))\n",
        "errors_train = np.zeros((n_epoch))\n",
        "losses_test = np.zeros((n_epoch))\n",
        "errors_test = np.zeros((n_epoch))\n",
        "\n",
        "for epoch in range(n_epoch):\n",
        "  # loop over batches\n",
        "  for i, batch in enumerate(data_loader):\n",
        "    # retrieve inputs and labels for this batch\n",
        "    x_batch, y_batch = batch\n",
        "    # zero the parameter gradients\n",
        "    optimizer.zero_grad()\n",
        "    # forward pass -- calculate model output\n",
        "    pred = model(x_batch)\n",
        "    # compute the loss\n",
        "    loss = loss_function(pred, y_batch)\n",
        "    # backward pass\n",
        "    loss.backward()\n",
        "    # SGD update\n",
        "    optimizer.step()\n",
        "\n",
        "  # Run whole dataset to get statistics -- normally wouldn't do this\n",
        "  pred_train = model(x_train)\n",
        "  pred_test = model(x_test)\n",
        "  _, predicted_train_class = torch.max(pred_train.data, 1)\n",
        "  _, predicted_test_class = torch.max(pred_test.data, 1)\n",
        "  errors_train[epoch] = 100 - 100 * (predicted_train_class == y_train).float().sum() / len(y_train)\n",
        "  errors_test[epoch]= 100 - 100 * (predicted_test_class == y_test).float().sum() / len(y_test)\n",
        "  losses_train[epoch] = loss_function(pred_train, y_train).item()\n",
        "  losses_test[epoch]= loss_function(pred_test, y_test).item()\n",
        "  print(f'Epoch {epoch:5d}, train loss {losses_train[epoch]:.6f}, train error {errors_train[epoch]:3.2f},  test loss {losses_test[epoch]:.6f}, test error {errors_test[epoch]:3.2f}')\n",
        "\n",
        "  # tell scheduler to consider updating learning rate\n",
        "  scheduler.step()"
      ]
    },
    {
      "cell_type": "code",
      "execution_count": null,
      "metadata": {
        "colab": {
          "base_uri": "https://localhost:8080/",
          "height": 927
        },
        "id": "yI-l6kA_EH9G",
        "outputId": "72e12c15-488e-4a9b-ec38-1f39815588e9"
      },
      "outputs": [
        {
          "data": {
            "image/png": "[encoded data removed]",
            "text/plain": [
              "<Figure size 640x480 with 1 Axes>"
            ]
          },
          "metadata": {},
          "output_type": "display_data"
        },
        {
          "data": {
            "image/png": "[encoded data removed]",
            "text/plain": [
              "<Figure size 640x480 with 1 Axes>"
            ]
          },
          "metadata": {},
          "output_type": "display_data"
        }
      ],
      "source": [
        "# Plot the results\n",
        "fig, ax = plt.subplots()\n",
        "ax.plot(errors_train,'r-',label='train')\n",
        "ax.plot(errors_test,'b-',label='test')\n",
        "ax.set_ylim(0,100); ax.set_xlim(0,n_epoch)\n",
        "ax.set_xlabel('Epoch'); ax.set_ylabel('Error')\n",
        "ax.set_title('TrainError %3.2f, Test Error %3.2f'%(errors_train[-1],errors_test[-1]))\n",
        "ax.legend()\n",
        "plt.show()\n",
        "\n",
        "# Plot the results\n",
        "fig, ax = plt.subplots()\n",
        "ax.plot(losses_train,'r-',label='train')\n",
        "ax.plot(losses_test,'b-',label='test')\n",
        "ax.set_xlim(0,n_epoch)\n",
        "ax.set_xlabel('Epoch'); ax.set_ylabel('Loss')\n",
        "ax.set_title('Train loss %3.2f, Test loss %3.2f'%(losses_train[-1],losses_test[-1]))\n",
        "ax.legend()\n",
        "plt.show()"
      ]
    },
    {
      "cell_type": "markdown",
      "metadata": {
        "id": "q-yT6re6GZS4"
      },
      "source": [
        "**TODO**\n",
        "\n",
        "Play with the model -- try changing the number of layers, hidden units, learning rate, batch size, momentum or anything else you like.  See if you can improve the test results.\n",
        "\n",
        "Is it a good idea to optimize the hyperparameters in this way?  Will the final result be a good estimate of the true test performance?"
      ]
    },
    {
      "cell_type": "markdown",
      "metadata": {
        "id": "D7wuKPWKI1nG"
      },
      "source": [
        "Response: It's not be a good estimate to update hyperparameters entirely as it could overfit the model that is being tested on. It would be ideal to finely tune the parameters.\n"
      ]
    }
  ],
  "metadata": {
    "accelerator": "GPU",
    "colab": {
      "gpuType": "T4",
      "provenance": []
    },
    "kernelspec": {
      "display_name": "Python 3",
      "name": "python3"
    },
    "language_info": {
      "codemirror_mode": {
        "name": "ipython",
        "version": 3
      },
      "file_extension": ".py",
      "mimetype": "text/x-python",
      "name": "python",
      "nbconvert_exporter": "python",
      "pygments_lexer": "ipython3",
      "version": "3.13.7"
    }
  },
  "nbformat": 4,
  "nbformat_minor": 0
}
